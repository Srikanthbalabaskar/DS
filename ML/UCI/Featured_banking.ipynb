{
 "cells": [
  {
   "cell_type": "code",
   "execution_count": 5,
   "metadata": {},
   "outputs": [],
   "source": [
    "import pandas as pd\n",
    "import numpy as np\n",
    "from sklearn.model_selection import train_test_split\n",
    "from sklearn.linear_model import LogisticRegression"
   ]
  },
  {
   "cell_type": "code",
   "execution_count": 2,
   "metadata": {},
   "outputs": [],
   "source": [
    "banking=pd.read_csv('featured_bank.csv')"
   ]
  },
  {
   "cell_type": "code",
   "execution_count": 3,
   "metadata": {},
   "outputs": [
    {
     "data": {
      "text/html": [
       "<div>\n",
       "<style scoped>\n",
       "    .dataframe tbody tr th:only-of-type {\n",
       "        vertical-align: middle;\n",
       "    }\n",
       "\n",
       "    .dataframe tbody tr th {\n",
       "        vertical-align: top;\n",
       "    }\n",
       "\n",
       "    .dataframe thead th {\n",
       "        text-align: right;\n",
       "    }\n",
       "</style>\n",
       "<table border=\"1\" class=\"dataframe\">\n",
       "  <thead>\n",
       "    <tr style=\"text-align: right;\">\n",
       "      <th></th>\n",
       "      <th>s.no</th>\n",
       "      <th>age</th>\n",
       "      <th>job</th>\n",
       "      <th>marital</th>\n",
       "      <th>education</th>\n",
       "      <th>default</th>\n",
       "      <th>housing</th>\n",
       "      <th>loan</th>\n",
       "      <th>contact</th>\n",
       "      <th>month</th>\n",
       "      <th>...</th>\n",
       "      <th>emp.var.rate</th>\n",
       "      <th>cons.price.idx</th>\n",
       "      <th>cons.conf.idx</th>\n",
       "      <th>euribor3m</th>\n",
       "      <th>nr.employed</th>\n",
       "      <th>y</th>\n",
       "      <th>f.euribor</th>\n",
       "      <th>f.age</th>\n",
       "      <th>f.duration</th>\n",
       "      <th>f.pattern</th>\n",
       "    </tr>\n",
       "  </thead>\n",
       "  <tbody>\n",
       "    <tr>\n",
       "      <th>0</th>\n",
       "      <td>1</td>\n",
       "      <td>56</td>\n",
       "      <td>housemaid</td>\n",
       "      <td>married</td>\n",
       "      <td>basic.4y</td>\n",
       "      <td>no</td>\n",
       "      <td>no</td>\n",
       "      <td>no</td>\n",
       "      <td>telephone</td>\n",
       "      <td>may</td>\n",
       "      <td>...</td>\n",
       "      <td>1.1</td>\n",
       "      <td>93.994</td>\n",
       "      <td>-36.4</td>\n",
       "      <td>4.857</td>\n",
       "      <td>5191</td>\n",
       "      <td>no</td>\n",
       "      <td>&gt;4</td>\n",
       "      <td>51_to_60</td>\n",
       "      <td>201_to_300</td>\n",
       "      <td>no</td>\n",
       "    </tr>\n",
       "    <tr>\n",
       "      <th>1</th>\n",
       "      <td>2</td>\n",
       "      <td>57</td>\n",
       "      <td>services</td>\n",
       "      <td>married</td>\n",
       "      <td>high.school</td>\n",
       "      <td>unknown</td>\n",
       "      <td>no</td>\n",
       "      <td>no</td>\n",
       "      <td>telephone</td>\n",
       "      <td>may</td>\n",
       "      <td>...</td>\n",
       "      <td>1.1</td>\n",
       "      <td>93.994</td>\n",
       "      <td>-36.4</td>\n",
       "      <td>4.857</td>\n",
       "      <td>5191</td>\n",
       "      <td>no</td>\n",
       "      <td>&gt;4</td>\n",
       "      <td>51_to_60</td>\n",
       "      <td>101_to_200</td>\n",
       "      <td>no</td>\n",
       "    </tr>\n",
       "    <tr>\n",
       "      <th>2</th>\n",
       "      <td>3</td>\n",
       "      <td>37</td>\n",
       "      <td>services</td>\n",
       "      <td>married</td>\n",
       "      <td>high.school</td>\n",
       "      <td>no</td>\n",
       "      <td>yes</td>\n",
       "      <td>no</td>\n",
       "      <td>telephone</td>\n",
       "      <td>may</td>\n",
       "      <td>...</td>\n",
       "      <td>1.1</td>\n",
       "      <td>93.994</td>\n",
       "      <td>-36.4</td>\n",
       "      <td>4.857</td>\n",
       "      <td>5191</td>\n",
       "      <td>no</td>\n",
       "      <td>&gt;4</td>\n",
       "      <td>31_to_40</td>\n",
       "      <td>201_to_300</td>\n",
       "      <td>no</td>\n",
       "    </tr>\n",
       "    <tr>\n",
       "      <th>3</th>\n",
       "      <td>4</td>\n",
       "      <td>40</td>\n",
       "      <td>admin.</td>\n",
       "      <td>married</td>\n",
       "      <td>basic.6y</td>\n",
       "      <td>no</td>\n",
       "      <td>no</td>\n",
       "      <td>no</td>\n",
       "      <td>telephone</td>\n",
       "      <td>may</td>\n",
       "      <td>...</td>\n",
       "      <td>1.1</td>\n",
       "      <td>93.994</td>\n",
       "      <td>-36.4</td>\n",
       "      <td>4.857</td>\n",
       "      <td>5191</td>\n",
       "      <td>no</td>\n",
       "      <td>&gt;4</td>\n",
       "      <td>31_to_40</td>\n",
       "      <td>101_to_200</td>\n",
       "      <td>no</td>\n",
       "    </tr>\n",
       "    <tr>\n",
       "      <th>4</th>\n",
       "      <td>5</td>\n",
       "      <td>56</td>\n",
       "      <td>services</td>\n",
       "      <td>married</td>\n",
       "      <td>high.school</td>\n",
       "      <td>no</td>\n",
       "      <td>no</td>\n",
       "      <td>yes</td>\n",
       "      <td>telephone</td>\n",
       "      <td>may</td>\n",
       "      <td>...</td>\n",
       "      <td>1.1</td>\n",
       "      <td>93.994</td>\n",
       "      <td>-36.4</td>\n",
       "      <td>4.857</td>\n",
       "      <td>5191</td>\n",
       "      <td>no</td>\n",
       "      <td>&gt;4</td>\n",
       "      <td>51_to_60</td>\n",
       "      <td>301_to_400</td>\n",
       "      <td>no</td>\n",
       "    </tr>\n",
       "  </tbody>\n",
       "</table>\n",
       "<p>5 rows × 26 columns</p>\n",
       "</div>"
      ],
      "text/plain": [
       "   s.no  age        job  marital    education  default housing loan  \\\n",
       "0     1   56  housemaid  married     basic.4y       no      no   no   \n",
       "1     2   57   services  married  high.school  unknown      no   no   \n",
       "2     3   37   services  married  high.school       no     yes   no   \n",
       "3     4   40     admin.  married     basic.6y       no      no   no   \n",
       "4     5   56   services  married  high.school       no      no  yes   \n",
       "\n",
       "     contact month  ... emp.var.rate  cons.price.idx  cons.conf.idx  \\\n",
       "0  telephone   may  ...          1.1          93.994          -36.4   \n",
       "1  telephone   may  ...          1.1          93.994          -36.4   \n",
       "2  telephone   may  ...          1.1          93.994          -36.4   \n",
       "3  telephone   may  ...          1.1          93.994          -36.4   \n",
       "4  telephone   may  ...          1.1          93.994          -36.4   \n",
       "\n",
       "   euribor3m  nr.employed   y  f.euribor     f.age  f.duration  f.pattern  \n",
       "0      4.857         5191  no         >4  51_to_60  201_to_300         no  \n",
       "1      4.857         5191  no         >4  51_to_60  101_to_200         no  \n",
       "2      4.857         5191  no         >4  31_to_40  201_to_300         no  \n",
       "3      4.857         5191  no         >4  31_to_40  101_to_200         no  \n",
       "4      4.857         5191  no         >4  51_to_60  301_to_400         no  \n",
       "\n",
       "[5 rows x 26 columns]"
      ]
     },
     "execution_count": 3,
     "metadata": {},
     "output_type": "execute_result"
    }
   ],
   "source": [
    "banking.head()"
   ]
  },
  {
   "cell_type": "code",
   "execution_count": 4,
   "metadata": {},
   "outputs": [
    {
     "data": {
      "text/plain": [
       "(41188, 26)"
      ]
     },
     "execution_count": 4,
     "metadata": {},
     "output_type": "execute_result"
    }
   ],
   "source": [
    "banking.shape"
   ]
  },
  {
   "cell_type": "code",
   "execution_count": 70,
   "metadata": {},
   "outputs": [
    {
     "data": {
      "text/plain": [
       "no     36548\n",
       "yes     4640\n",
       "Name: y, dtype: int64"
      ]
     },
     "execution_count": 70,
     "metadata": {},
     "output_type": "execute_result"
    }
   ],
   "source": [
    "banking['y'].value_counts()"
   ]
  },
  {
   "cell_type": "code",
   "execution_count": 6,
   "metadata": {},
   "outputs": [
    {
     "name": "stdout",
     "output_type": "stream",
     "text": [
      "<class 'pandas.core.frame.DataFrame'>\n",
      "RangeIndex: 41188 entries, 0 to 41187\n",
      "Data columns (total 26 columns):\n",
      " #   Column          Non-Null Count  Dtype  \n",
      "---  ------          --------------  -----  \n",
      " 0   s.no            41188 non-null  int64  \n",
      " 1   age             41188 non-null  int64  \n",
      " 2   job             41188 non-null  object \n",
      " 3   marital         41188 non-null  object \n",
      " 4   education       41188 non-null  object \n",
      " 5   default         41188 non-null  object \n",
      " 6   housing         41188 non-null  object \n",
      " 7   loan            41188 non-null  object \n",
      " 8   contact         41188 non-null  object \n",
      " 9   month           41188 non-null  object \n",
      " 10  day_of_week     41188 non-null  object \n",
      " 11  duration        41188 non-null  int64  \n",
      " 12  campaign        41188 non-null  int64  \n",
      " 13  pdays           41188 non-null  int64  \n",
      " 14  previous        41188 non-null  int64  \n",
      " 15  poutcome        41188 non-null  object \n",
      " 16  emp.var.rate    41188 non-null  float64\n",
      " 17  cons.price.idx  41188 non-null  float64\n",
      " 18  cons.conf.idx   41188 non-null  float64\n",
      " 19  euribor3m       41188 non-null  float64\n",
      " 20  nr.employed     41188 non-null  int64  \n",
      " 21  y               41188 non-null  object \n",
      " 22  f.euribor       41188 non-null  object \n",
      " 23  f.age           41188 non-null  object \n",
      " 24  f.duration      41188 non-null  object \n",
      " 25  f.pattern       41188 non-null  object \n",
      "dtypes: float64(4), int64(7), object(15)\n",
      "memory usage: 8.2+ MB\n"
     ]
    }
   ],
   "source": [
    "banking.info()"
   ]
  },
  {
   "cell_type": "markdown",
   "metadata": {},
   "source": [
    "# Encoding"
   ]
  },
  {
   "cell_type": "code",
   "execution_count": 7,
   "metadata": {},
   "outputs": [],
   "source": [
    "banking_encoded=pd.get_dummies(banking[['job','marital','education','default','housing','loan','contact','month','day_of_week','poutcome','f.euribor','f.age','f.duration','f.pattern']])"
   ]
  },
  {
   "cell_type": "code",
   "execution_count": 8,
   "metadata": {},
   "outputs": [],
   "source": [
    "banking_df=pd.concat([banking_encoded,banking[['campaign','previous','emp.var.rate','cons.price.idx','cons.conf.idx',\n",
    "                                                       'nr.employed','y']]],axis=1)"
   ]
  },
  {
   "cell_type": "code",
   "execution_count": 45,
   "metadata": {},
   "outputs": [],
   "source": [
    "banking_df_rem=pd.concat([banking_encoded,banking[['campaign','previous','cons.price.idx',\n",
    "                                                      'y']]],axis=1)"
   ]
  },
  {
   "cell_type": "code",
   "execution_count": 9,
   "metadata": {},
   "outputs": [
    {
     "data": {
      "text/html": [
       "<div>\n",
       "<style scoped>\n",
       "    .dataframe tbody tr th:only-of-type {\n",
       "        vertical-align: middle;\n",
       "    }\n",
       "\n",
       "    .dataframe tbody tr th {\n",
       "        vertical-align: top;\n",
       "    }\n",
       "\n",
       "    .dataframe thead th {\n",
       "        text-align: right;\n",
       "    }\n",
       "</style>\n",
       "<table border=\"1\" class=\"dataframe\">\n",
       "  <thead>\n",
       "    <tr style=\"text-align: right;\">\n",
       "      <th></th>\n",
       "      <th>job_admin.</th>\n",
       "      <th>job_blue-collar</th>\n",
       "      <th>job_entrepreneur</th>\n",
       "      <th>job_housemaid</th>\n",
       "      <th>job_management</th>\n",
       "      <th>job_retired</th>\n",
       "      <th>job_self-employed</th>\n",
       "      <th>job_services</th>\n",
       "      <th>job_student</th>\n",
       "      <th>job_technician</th>\n",
       "      <th>...</th>\n",
       "      <th>f.pattern_PE4F</th>\n",
       "      <th>f.pattern_PE4G</th>\n",
       "      <th>f.pattern_no</th>\n",
       "      <th>campaign</th>\n",
       "      <th>previous</th>\n",
       "      <th>emp.var.rate</th>\n",
       "      <th>cons.price.idx</th>\n",
       "      <th>cons.conf.idx</th>\n",
       "      <th>nr.employed</th>\n",
       "      <th>y</th>\n",
       "    </tr>\n",
       "  </thead>\n",
       "  <tbody>\n",
       "    <tr>\n",
       "      <th>0</th>\n",
       "      <td>0</td>\n",
       "      <td>0</td>\n",
       "      <td>0</td>\n",
       "      <td>1</td>\n",
       "      <td>0</td>\n",
       "      <td>0</td>\n",
       "      <td>0</td>\n",
       "      <td>0</td>\n",
       "      <td>0</td>\n",
       "      <td>0</td>\n",
       "      <td>...</td>\n",
       "      <td>0</td>\n",
       "      <td>0</td>\n",
       "      <td>1</td>\n",
       "      <td>1</td>\n",
       "      <td>0</td>\n",
       "      <td>1.1</td>\n",
       "      <td>93.994</td>\n",
       "      <td>-36.4</td>\n",
       "      <td>5191</td>\n",
       "      <td>no</td>\n",
       "    </tr>\n",
       "    <tr>\n",
       "      <th>1</th>\n",
       "      <td>0</td>\n",
       "      <td>0</td>\n",
       "      <td>0</td>\n",
       "      <td>0</td>\n",
       "      <td>0</td>\n",
       "      <td>0</td>\n",
       "      <td>0</td>\n",
       "      <td>1</td>\n",
       "      <td>0</td>\n",
       "      <td>0</td>\n",
       "      <td>...</td>\n",
       "      <td>0</td>\n",
       "      <td>0</td>\n",
       "      <td>1</td>\n",
       "      <td>1</td>\n",
       "      <td>0</td>\n",
       "      <td>1.1</td>\n",
       "      <td>93.994</td>\n",
       "      <td>-36.4</td>\n",
       "      <td>5191</td>\n",
       "      <td>no</td>\n",
       "    </tr>\n",
       "    <tr>\n",
       "      <th>2</th>\n",
       "      <td>0</td>\n",
       "      <td>0</td>\n",
       "      <td>0</td>\n",
       "      <td>0</td>\n",
       "      <td>0</td>\n",
       "      <td>0</td>\n",
       "      <td>0</td>\n",
       "      <td>1</td>\n",
       "      <td>0</td>\n",
       "      <td>0</td>\n",
       "      <td>...</td>\n",
       "      <td>0</td>\n",
       "      <td>0</td>\n",
       "      <td>1</td>\n",
       "      <td>1</td>\n",
       "      <td>0</td>\n",
       "      <td>1.1</td>\n",
       "      <td>93.994</td>\n",
       "      <td>-36.4</td>\n",
       "      <td>5191</td>\n",
       "      <td>no</td>\n",
       "    </tr>\n",
       "    <tr>\n",
       "      <th>3</th>\n",
       "      <td>1</td>\n",
       "      <td>0</td>\n",
       "      <td>0</td>\n",
       "      <td>0</td>\n",
       "      <td>0</td>\n",
       "      <td>0</td>\n",
       "      <td>0</td>\n",
       "      <td>0</td>\n",
       "      <td>0</td>\n",
       "      <td>0</td>\n",
       "      <td>...</td>\n",
       "      <td>0</td>\n",
       "      <td>0</td>\n",
       "      <td>1</td>\n",
       "      <td>1</td>\n",
       "      <td>0</td>\n",
       "      <td>1.1</td>\n",
       "      <td>93.994</td>\n",
       "      <td>-36.4</td>\n",
       "      <td>5191</td>\n",
       "      <td>no</td>\n",
       "    </tr>\n",
       "    <tr>\n",
       "      <th>4</th>\n",
       "      <td>0</td>\n",
       "      <td>0</td>\n",
       "      <td>0</td>\n",
       "      <td>0</td>\n",
       "      <td>0</td>\n",
       "      <td>0</td>\n",
       "      <td>0</td>\n",
       "      <td>1</td>\n",
       "      <td>0</td>\n",
       "      <td>0</td>\n",
       "      <td>...</td>\n",
       "      <td>0</td>\n",
       "      <td>0</td>\n",
       "      <td>1</td>\n",
       "      <td>1</td>\n",
       "      <td>0</td>\n",
       "      <td>1.1</td>\n",
       "      <td>93.994</td>\n",
       "      <td>-36.4</td>\n",
       "      <td>5191</td>\n",
       "      <td>no</td>\n",
       "    </tr>\n",
       "  </tbody>\n",
       "</table>\n",
       "<p>5 rows × 124 columns</p>\n",
       "</div>"
      ],
      "text/plain": [
       "   job_admin.  job_blue-collar  job_entrepreneur  job_housemaid  \\\n",
       "0           0                0                 0              1   \n",
       "1           0                0                 0              0   \n",
       "2           0                0                 0              0   \n",
       "3           1                0                 0              0   \n",
       "4           0                0                 0              0   \n",
       "\n",
       "   job_management  job_retired  job_self-employed  job_services  job_student  \\\n",
       "0               0            0                  0             0            0   \n",
       "1               0            0                  0             1            0   \n",
       "2               0            0                  0             1            0   \n",
       "3               0            0                  0             0            0   \n",
       "4               0            0                  0             1            0   \n",
       "\n",
       "   job_technician  ...  f.pattern_PE4F  f.pattern_PE4G  f.pattern_no  \\\n",
       "0               0  ...               0               0             1   \n",
       "1               0  ...               0               0             1   \n",
       "2               0  ...               0               0             1   \n",
       "3               0  ...               0               0             1   \n",
       "4               0  ...               0               0             1   \n",
       "\n",
       "   campaign  previous  emp.var.rate  cons.price.idx  cons.conf.idx  \\\n",
       "0         1         0           1.1          93.994          -36.4   \n",
       "1         1         0           1.1          93.994          -36.4   \n",
       "2         1         0           1.1          93.994          -36.4   \n",
       "3         1         0           1.1          93.994          -36.4   \n",
       "4         1         0           1.1          93.994          -36.4   \n",
       "\n",
       "   nr.employed   y  \n",
       "0         5191  no  \n",
       "1         5191  no  \n",
       "2         5191  no  \n",
       "3         5191  no  \n",
       "4         5191  no  \n",
       "\n",
       "[5 rows x 124 columns]"
      ]
     },
     "execution_count": 9,
     "metadata": {},
     "output_type": "execute_result"
    }
   ],
   "source": [
    "banking_df.head()"
   ]
  },
  {
   "cell_type": "markdown",
   "metadata": {},
   "source": [
    "# Logistic Model for the Featured Data Set"
   ]
  },
  {
   "cell_type": "code",
   "execution_count": 10,
   "metadata": {},
   "outputs": [],
   "source": [
    "X=banking_df.drop(columns=['y'])"
   ]
  },
  {
   "cell_type": "code",
   "execution_count": 12,
   "metadata": {},
   "outputs": [],
   "source": [
    "y=banking_df['y']"
   ]
  },
  {
   "cell_type": "code",
   "execution_count": 13,
   "metadata": {},
   "outputs": [],
   "source": [
    " X_train, X_test, y_train, y_test = train_test_split(\n",
    "    X, y, test_size=0.25, random_state=101)"
   ]
  },
  {
   "cell_type": "code",
   "execution_count": 14,
   "metadata": {},
   "outputs": [
    {
     "data": {
      "text/html": [
       "<div>\n",
       "<style scoped>\n",
       "    .dataframe tbody tr th:only-of-type {\n",
       "        vertical-align: middle;\n",
       "    }\n",
       "\n",
       "    .dataframe tbody tr th {\n",
       "        vertical-align: top;\n",
       "    }\n",
       "\n",
       "    .dataframe thead th {\n",
       "        text-align: right;\n",
       "    }\n",
       "</style>\n",
       "<table border=\"1\" class=\"dataframe\">\n",
       "  <thead>\n",
       "    <tr style=\"text-align: right;\">\n",
       "      <th></th>\n",
       "      <th>job_admin.</th>\n",
       "      <th>job_blue-collar</th>\n",
       "      <th>job_entrepreneur</th>\n",
       "      <th>job_housemaid</th>\n",
       "      <th>job_management</th>\n",
       "      <th>job_retired</th>\n",
       "      <th>job_self-employed</th>\n",
       "      <th>job_services</th>\n",
       "      <th>job_student</th>\n",
       "      <th>job_technician</th>\n",
       "      <th>...</th>\n",
       "      <th>f.pattern_PE4E</th>\n",
       "      <th>f.pattern_PE4F</th>\n",
       "      <th>f.pattern_PE4G</th>\n",
       "      <th>f.pattern_no</th>\n",
       "      <th>campaign</th>\n",
       "      <th>previous</th>\n",
       "      <th>emp.var.rate</th>\n",
       "      <th>cons.price.idx</th>\n",
       "      <th>cons.conf.idx</th>\n",
       "      <th>nr.employed</th>\n",
       "    </tr>\n",
       "  </thead>\n",
       "  <tbody>\n",
       "    <tr>\n",
       "      <th>18897</th>\n",
       "      <td>0</td>\n",
       "      <td>0</td>\n",
       "      <td>0</td>\n",
       "      <td>0</td>\n",
       "      <td>0</td>\n",
       "      <td>0</td>\n",
       "      <td>0</td>\n",
       "      <td>0</td>\n",
       "      <td>0</td>\n",
       "      <td>1</td>\n",
       "      <td>...</td>\n",
       "      <td>0</td>\n",
       "      <td>0</td>\n",
       "      <td>0</td>\n",
       "      <td>1</td>\n",
       "      <td>1</td>\n",
       "      <td>0</td>\n",
       "      <td>1.4</td>\n",
       "      <td>93.444</td>\n",
       "      <td>-36.1</td>\n",
       "      <td>5228</td>\n",
       "    </tr>\n",
       "    <tr>\n",
       "      <th>25546</th>\n",
       "      <td>1</td>\n",
       "      <td>0</td>\n",
       "      <td>0</td>\n",
       "      <td>0</td>\n",
       "      <td>0</td>\n",
       "      <td>0</td>\n",
       "      <td>0</td>\n",
       "      <td>0</td>\n",
       "      <td>0</td>\n",
       "      <td>0</td>\n",
       "      <td>...</td>\n",
       "      <td>0</td>\n",
       "      <td>0</td>\n",
       "      <td>0</td>\n",
       "      <td>1</td>\n",
       "      <td>1</td>\n",
       "      <td>1</td>\n",
       "      <td>-0.1</td>\n",
       "      <td>93.200</td>\n",
       "      <td>-42.0</td>\n",
       "      <td>5196</td>\n",
       "    </tr>\n",
       "    <tr>\n",
       "      <th>16054</th>\n",
       "      <td>0</td>\n",
       "      <td>1</td>\n",
       "      <td>0</td>\n",
       "      <td>0</td>\n",
       "      <td>0</td>\n",
       "      <td>0</td>\n",
       "      <td>0</td>\n",
       "      <td>0</td>\n",
       "      <td>0</td>\n",
       "      <td>0</td>\n",
       "      <td>...</td>\n",
       "      <td>0</td>\n",
       "      <td>0</td>\n",
       "      <td>0</td>\n",
       "      <td>1</td>\n",
       "      <td>1</td>\n",
       "      <td>0</td>\n",
       "      <td>1.4</td>\n",
       "      <td>93.918</td>\n",
       "      <td>-42.7</td>\n",
       "      <td>5228</td>\n",
       "    </tr>\n",
       "    <tr>\n",
       "      <th>8799</th>\n",
       "      <td>0</td>\n",
       "      <td>0</td>\n",
       "      <td>0</td>\n",
       "      <td>1</td>\n",
       "      <td>0</td>\n",
       "      <td>0</td>\n",
       "      <td>0</td>\n",
       "      <td>0</td>\n",
       "      <td>0</td>\n",
       "      <td>0</td>\n",
       "      <td>...</td>\n",
       "      <td>0</td>\n",
       "      <td>0</td>\n",
       "      <td>0</td>\n",
       "      <td>1</td>\n",
       "      <td>1</td>\n",
       "      <td>0</td>\n",
       "      <td>1.4</td>\n",
       "      <td>94.465</td>\n",
       "      <td>-41.8</td>\n",
       "      <td>5228</td>\n",
       "    </tr>\n",
       "    <tr>\n",
       "      <th>28557</th>\n",
       "      <td>0</td>\n",
       "      <td>0</td>\n",
       "      <td>0</td>\n",
       "      <td>0</td>\n",
       "      <td>0</td>\n",
       "      <td>1</td>\n",
       "      <td>0</td>\n",
       "      <td>0</td>\n",
       "      <td>0</td>\n",
       "      <td>0</td>\n",
       "      <td>...</td>\n",
       "      <td>0</td>\n",
       "      <td>0</td>\n",
       "      <td>0</td>\n",
       "      <td>1</td>\n",
       "      <td>1</td>\n",
       "      <td>0</td>\n",
       "      <td>-1.8</td>\n",
       "      <td>93.075</td>\n",
       "      <td>-47.1</td>\n",
       "      <td>5099</td>\n",
       "    </tr>\n",
       "  </tbody>\n",
       "</table>\n",
       "<p>5 rows × 123 columns</p>\n",
       "</div>"
      ],
      "text/plain": [
       "       job_admin.  job_blue-collar  job_entrepreneur  job_housemaid  \\\n",
       "18897           0                0                 0              0   \n",
       "25546           1                0                 0              0   \n",
       "16054           0                1                 0              0   \n",
       "8799            0                0                 0              1   \n",
       "28557           0                0                 0              0   \n",
       "\n",
       "       job_management  job_retired  job_self-employed  job_services  \\\n",
       "18897               0            0                  0             0   \n",
       "25546               0            0                  0             0   \n",
       "16054               0            0                  0             0   \n",
       "8799                0            0                  0             0   \n",
       "28557               0            1                  0             0   \n",
       "\n",
       "       job_student  job_technician  ...  f.pattern_PE4E  f.pattern_PE4F  \\\n",
       "18897            0               1  ...               0               0   \n",
       "25546            0               0  ...               0               0   \n",
       "16054            0               0  ...               0               0   \n",
       "8799             0               0  ...               0               0   \n",
       "28557            0               0  ...               0               0   \n",
       "\n",
       "       f.pattern_PE4G  f.pattern_no  campaign  previous  emp.var.rate  \\\n",
       "18897               0             1         1         0           1.4   \n",
       "25546               0             1         1         1          -0.1   \n",
       "16054               0             1         1         0           1.4   \n",
       "8799                0             1         1         0           1.4   \n",
       "28557               0             1         1         0          -1.8   \n",
       "\n",
       "       cons.price.idx  cons.conf.idx  nr.employed  \n",
       "18897          93.444          -36.1         5228  \n",
       "25546          93.200          -42.0         5196  \n",
       "16054          93.918          -42.7         5228  \n",
       "8799           94.465          -41.8         5228  \n",
       "28557          93.075          -47.1         5099  \n",
       "\n",
       "[5 rows x 123 columns]"
      ]
     },
     "execution_count": 14,
     "metadata": {},
     "output_type": "execute_result"
    }
   ],
   "source": [
    "X_train.head()"
   ]
  },
  {
   "cell_type": "code",
   "execution_count": 15,
   "metadata": {},
   "outputs": [
    {
     "data": {
      "text/plain": [
       "(30891, 123)"
      ]
     },
     "execution_count": 15,
     "metadata": {},
     "output_type": "execute_result"
    }
   ],
   "source": [
    "X_train.shape"
   ]
  },
  {
   "cell_type": "code",
   "execution_count": 68,
   "metadata": {},
   "outputs": [
    {
     "data": {
      "text/plain": [
       "no     27416\n",
       "yes     3475\n",
       "Name: y, dtype: int64"
      ]
     },
     "execution_count": 68,
     "metadata": {},
     "output_type": "execute_result"
    }
   ],
   "source": [
    "y_train.value_counts()"
   ]
  },
  {
   "cell_type": "code",
   "execution_count": 69,
   "metadata": {},
   "outputs": [
    {
     "data": {
      "text/plain": [
       "no     9132\n",
       "yes    1165\n",
       "Name: y, dtype: int64"
      ]
     },
     "execution_count": 69,
     "metadata": {},
     "output_type": "execute_result"
    }
   ],
   "source": [
    "y_test.value_counts()"
   ]
  },
  {
   "cell_type": "code",
   "execution_count": 16,
   "metadata": {},
   "outputs": [],
   "source": [
    "lrf=LogisticRegression()"
   ]
  },
  {
   "cell_type": "code",
   "execution_count": 17,
   "metadata": {},
   "outputs": [
    {
     "name": "stderr",
     "output_type": "stream",
     "text": [
      "C:\\Users\\srika\\anaconda3\\lib\\site-packages\\sklearn\\linear_model\\_logistic.py:764: ConvergenceWarning: lbfgs failed to converge (status=1):\n",
      "STOP: TOTAL NO. of ITERATIONS REACHED LIMIT.\n",
      "\n",
      "Increase the number of iterations (max_iter) or scale the data as shown in:\n",
      "    https://scikit-learn.org/stable/modules/preprocessing.html\n",
      "Please also refer to the documentation for alternative solver options:\n",
      "    https://scikit-learn.org/stable/modules/linear_model.html#logistic-regression\n",
      "  extra_warning_msg=_LOGISTIC_SOLVER_CONVERGENCE_MSG)\n"
     ]
    },
    {
     "data": {
      "text/plain": [
       "LogisticRegression()"
      ]
     },
     "execution_count": 17,
     "metadata": {},
     "output_type": "execute_result"
    }
   ],
   "source": [
    "lrf.fit(X_train,y_train)"
   ]
  },
  {
   "cell_type": "code",
   "execution_count": 18,
   "metadata": {},
   "outputs": [],
   "source": [
    "predictions_LRF=lrf.predict(X_test)"
   ]
  },
  {
   "cell_type": "code",
   "execution_count": 19,
   "metadata": {},
   "outputs": [],
   "source": [
    "from sklearn.metrics import accuracy_score,classification_report,confusion_matrix"
   ]
  },
  {
   "cell_type": "code",
   "execution_count": 21,
   "metadata": {},
   "outputs": [
    {
     "name": "stdout",
     "output_type": "stream",
     "text": [
      "accuracy:\n",
      " 0.8966689326988443\n",
      "classification_report:\n",
      "               precision    recall  f1-score   support\n",
      "\n",
      "          no       0.91      0.98      0.94      9132\n",
      "         yes       0.60      0.26      0.36      1165\n",
      "\n",
      "    accuracy                           0.90     10297\n",
      "   macro avg       0.76      0.62      0.65     10297\n",
      "weighted avg       0.88      0.90      0.88     10297\n",
      "\n",
      "confusion_matrix:\n",
      " [[8932  200]\n",
      " [ 864  301]]\n"
     ]
    }
   ],
   "source": [
    "print('accuracy:\\n',accuracy_score(y_test,predictions_LRF))\n",
    "print('classification_report:\\n',classification_report(y_test,predictions_LRF))\n",
    "print('confusion_matrix:\\n',confusion_matrix(y_test,predictions_LRF))"
   ]
  },
  {
   "cell_type": "markdown",
   "metadata": {},
   "source": [
    "# Decision Tree for Featured Model Data Set"
   ]
  },
  {
   "cell_type": "code",
   "execution_count": 31,
   "metadata": {},
   "outputs": [],
   "source": [
    "from sklearn.tree import DecisionTreeClassifier"
   ]
  },
  {
   "cell_type": "code",
   "execution_count": 32,
   "metadata": {},
   "outputs": [],
   "source": [
    "dtf=DecisionTreeClassifier()"
   ]
  },
  {
   "cell_type": "code",
   "execution_count": 33,
   "metadata": {},
   "outputs": [
    {
     "data": {
      "text/plain": [
       "DecisionTreeClassifier()"
      ]
     },
     "execution_count": 33,
     "metadata": {},
     "output_type": "execute_result"
    }
   ],
   "source": [
    "dtf.fit(X_train,y_train)"
   ]
  },
  {
   "cell_type": "code",
   "execution_count": 35,
   "metadata": {},
   "outputs": [],
   "source": [
    "predictions_dtf=dtf.predict(X_test)"
   ]
  },
  {
   "cell_type": "code",
   "execution_count": 36,
   "metadata": {},
   "outputs": [
    {
     "name": "stdout",
     "output_type": "stream",
     "text": [
      "accuracy:\n",
      " 0.8863746722346314\n",
      "classification_report:\n",
      "               precision    recall  f1-score   support\n",
      "\n",
      "          no       0.94      0.94      0.94      9132\n",
      "         yes       0.50      0.49      0.50      1165\n",
      "\n",
      "    accuracy                           0.89     10297\n",
      "   macro avg       0.72      0.71      0.72     10297\n",
      "weighted avg       0.89      0.89      0.89     10297\n",
      "\n",
      "confusion_matrix:\n",
      " [[8553  579]\n",
      " [ 591  574]]\n"
     ]
    }
   ],
   "source": [
    "print('accuracy:\\n',accuracy_score(y_test,predictions_dtf))\n",
    "print('classification_report:\\n',classification_report(y_test,predictions_dtf))\n",
    "print('confusion_matrix:\\n',confusion_matrix(y_test,predictions_dtf))"
   ]
  },
  {
   "cell_type": "markdown",
   "metadata": {},
   "source": [
    "# Random Forest for Featured Model Data Set"
   ]
  },
  {
   "cell_type": "code",
   "execution_count": 37,
   "metadata": {},
   "outputs": [],
   "source": [
    "from sklearn.ensemble import RandomForestClassifier"
   ]
  },
  {
   "cell_type": "code",
   "execution_count": 38,
   "metadata": {},
   "outputs": [],
   "source": [
    "rff=RandomForestClassifier()"
   ]
  },
  {
   "cell_type": "code",
   "execution_count": 39,
   "metadata": {},
   "outputs": [
    {
     "data": {
      "text/plain": [
       "RandomForestClassifier()"
      ]
     },
     "execution_count": 39,
     "metadata": {},
     "output_type": "execute_result"
    }
   ],
   "source": [
    "rff.fit(X_train,y_train)"
   ]
  },
  {
   "cell_type": "code",
   "execution_count": 42,
   "metadata": {},
   "outputs": [],
   "source": [
    "predictions_rff=rff.predict(X_test)"
   ]
  },
  {
   "cell_type": "code",
   "execution_count": 43,
   "metadata": {},
   "outputs": [
    {
     "name": "stdout",
     "output_type": "stream",
     "text": [
      "accuracy:\n",
      " 0.9074487714868408\n",
      "classification_report:\n",
      "               precision    recall  f1-score   support\n",
      "\n",
      "          no       0.93      0.97      0.95      9132\n",
      "         yes       0.64      0.43      0.51      1165\n",
      "\n",
      "    accuracy                           0.91     10297\n",
      "   macro avg       0.78      0.70      0.73     10297\n",
      "weighted avg       0.90      0.91      0.90     10297\n",
      "\n",
      "confusion_matrix:\n",
      " [[8847  285]\n",
      " [ 668  497]]\n"
     ]
    }
   ],
   "source": [
    "print('accuracy:\\n',accuracy_score(y_test,predictions_rff))\n",
    "print('classification_report:\\n',classification_report(y_test,predictions_rff))\n",
    "print('confusion_matrix:\\n',confusion_matrix(y_test,predictions_rff))"
   ]
  },
  {
   "cell_type": "markdown",
   "metadata": {},
   "source": [
    "# Models with few columns removed "
   ]
  },
  {
   "cell_type": "code",
   "execution_count": 50,
   "metadata": {},
   "outputs": [],
   "source": [
    "X_rem=banking_df_rem.drop(columns=['y'])"
   ]
  },
  {
   "cell_type": "code",
   "execution_count": 51,
   "metadata": {},
   "outputs": [],
   "source": [
    "y_rem=banking_df_rem['y']"
   ]
  },
  {
   "cell_type": "code",
   "execution_count": 52,
   "metadata": {},
   "outputs": [],
   "source": [
    " X_train_r, X_test_r, y_train_r, y_test_r = train_test_split(\n",
    "    X_rem, y_rem, test_size=0.25, random_state=101)"
   ]
  },
  {
   "cell_type": "code",
   "execution_count": 53,
   "metadata": {},
   "outputs": [],
   "source": [
    "lrr=LogisticRegression()"
   ]
  },
  {
   "cell_type": "code",
   "execution_count": 54,
   "metadata": {},
   "outputs": [
    {
     "name": "stderr",
     "output_type": "stream",
     "text": [
      "C:\\Users\\srika\\anaconda3\\lib\\site-packages\\sklearn\\linear_model\\_logistic.py:764: ConvergenceWarning: lbfgs failed to converge (status=1):\n",
      "STOP: TOTAL NO. of ITERATIONS REACHED LIMIT.\n",
      "\n",
      "Increase the number of iterations (max_iter) or scale the data as shown in:\n",
      "    https://scikit-learn.org/stable/modules/preprocessing.html\n",
      "Please also refer to the documentation for alternative solver options:\n",
      "    https://scikit-learn.org/stable/modules/linear_model.html#logistic-regression\n",
      "  extra_warning_msg=_LOGISTIC_SOLVER_CONVERGENCE_MSG)\n"
     ]
    },
    {
     "data": {
      "text/plain": [
       "LogisticRegression()"
      ]
     },
     "execution_count": 54,
     "metadata": {},
     "output_type": "execute_result"
    }
   ],
   "source": [
    "lrr.fit( X_train_r,y_train_r)"
   ]
  },
  {
   "cell_type": "code",
   "execution_count": 55,
   "metadata": {},
   "outputs": [],
   "source": [
    "predictions_lrr=lrr.predict(X_test_r)\n"
   ]
  },
  {
   "cell_type": "code",
   "execution_count": 57,
   "metadata": {},
   "outputs": [
    {
     "name": "stdout",
     "output_type": "stream",
     "text": [
      "accuracy:\n",
      " 0.9072545401573274\n",
      "classification_report:\n",
      "               precision    recall  f1-score   support\n",
      "\n",
      "          no       0.93      0.97      0.95      9132\n",
      "         yes       0.65      0.38      0.48      1165\n",
      "\n",
      "    accuracy                           0.91     10297\n",
      "   macro avg       0.79      0.68      0.72     10297\n",
      "weighted avg       0.89      0.91      0.90     10297\n",
      "\n",
      "confusion_matrix:\n",
      " [[8895  237]\n",
      " [ 718  447]]\n"
     ]
    }
   ],
   "source": [
    "print('accuracy:\\n',accuracy_score(y_test,predictions_lrr))\n",
    "print('classification_report:\\n',classification_report(y_test,predictions_lrr))\n",
    "print('confusion_matrix:\\n',confusion_matrix(y_test,predictions_lrr))"
   ]
  },
  {
   "cell_type": "code",
   "execution_count": 58,
   "metadata": {},
   "outputs": [],
   "source": [
    "dtr=DecisionTreeClassifier()"
   ]
  },
  {
   "cell_type": "code",
   "execution_count": 59,
   "metadata": {},
   "outputs": [
    {
     "data": {
      "text/plain": [
       "DecisionTreeClassifier()"
      ]
     },
     "execution_count": 59,
     "metadata": {},
     "output_type": "execute_result"
    }
   ],
   "source": [
    "dtr.fit( X_train_r,y_train_r)"
   ]
  },
  {
   "cell_type": "code",
   "execution_count": 61,
   "metadata": {},
   "outputs": [],
   "source": [
    "predictions_dtr=dtr.predict(X_test_r)"
   ]
  },
  {
   "cell_type": "code",
   "execution_count": 62,
   "metadata": {},
   "outputs": [
    {
     "name": "stdout",
     "output_type": "stream",
     "text": [
      "accuracy:\n",
      " 0.8899679518306303\n",
      "classification_report:\n",
      "               precision    recall  f1-score   support\n",
      "\n",
      "          no       0.94      0.94      0.94      9132\n",
      "         yes       0.51      0.53      0.52      1165\n",
      "\n",
      "    accuracy                           0.89     10297\n",
      "   macro avg       0.73      0.73      0.73     10297\n",
      "weighted avg       0.89      0.89      0.89     10297\n",
      "\n",
      "confusion_matrix:\n",
      " [[8550  582]\n",
      " [ 551  614]]\n"
     ]
    }
   ],
   "source": [
    "print('accuracy:\\n',accuracy_score(y_test,predictions_dtr))\n",
    "print('classification_report:\\n',classification_report(y_test,predictions_dtr))\n",
    "print('confusion_matrix:\\n',confusion_matrix(y_test,predictions_dtr))"
   ]
  },
  {
   "cell_type": "code",
   "execution_count": 63,
   "metadata": {},
   "outputs": [],
   "source": [
    "rfr=RandomForestClassifier()"
   ]
  },
  {
   "cell_type": "code",
   "execution_count": 64,
   "metadata": {},
   "outputs": [
    {
     "data": {
      "text/plain": [
       "RandomForestClassifier()"
      ]
     },
     "execution_count": 64,
     "metadata": {},
     "output_type": "execute_result"
    }
   ],
   "source": [
    "rfr.fit( X_train_r,y_train_r)"
   ]
  },
  {
   "cell_type": "code",
   "execution_count": 65,
   "metadata": {},
   "outputs": [],
   "source": [
    "predictions_rfr=rfr.predict(X_test_r)"
   ]
  },
  {
   "cell_type": "code",
   "execution_count": 66,
   "metadata": {},
   "outputs": [
    {
     "name": "stdout",
     "output_type": "stream",
     "text": [
      "accuracy:\n",
      " 0.9074487714868408\n",
      "classification_report:\n",
      "               precision    recall  f1-score   support\n",
      "\n",
      "          no       0.93      0.97      0.95      9132\n",
      "         yes       0.65      0.40      0.50      1165\n",
      "\n",
      "    accuracy                           0.91     10297\n",
      "   macro avg       0.79      0.69      0.72     10297\n",
      "weighted avg       0.90      0.91      0.90     10297\n",
      "\n",
      "confusion_matrix:\n",
      " [[8875  257]\n",
      " [ 696  469]]\n"
     ]
    }
   ],
   "source": [
    "print('accuracy:\\n',accuracy_score(y_test,predictions_rfr))\n",
    "print('classification_report:\\n',classification_report(y_test,predictions_rfr))\n",
    "print('confusion_matrix:\\n',confusion_matrix(y_test,predictions_rfr))"
   ]
  },
  {
   "cell_type": "code",
   "execution_count": 71,
   "metadata": {},
   "outputs": [],
   "source": [
    "from sklearn.model_selection import GridSearchCV"
   ]
  },
  {
   "cell_type": "code",
   "execution_count": 72,
   "metadata": {},
   "outputs": [],
   "source": [
    "params= {'n_estimators':[200,500,700],'max_depth':[10,15,18,20],\n",
    "        'min_samples_leaf':[3,5,7]}"
   ]
  },
  {
   "cell_type": "code",
   "execution_count": 73,
   "metadata": {},
   "outputs": [],
   "source": [
    "gs=GridSearchCV(rfr,params,verbose=3)"
   ]
  },
  {
   "cell_type": "code",
   "execution_count": 74,
   "metadata": {},
   "outputs": [
    {
     "name": "stdout",
     "output_type": "stream",
     "text": [
      "Fitting 5 folds for each of 36 candidates, totalling 180 fits\n",
      "[CV] max_depth=10, min_samples_leaf=3, n_estimators=200 ..............\n"
     ]
    },
    {
     "name": "stderr",
     "output_type": "stream",
     "text": [
      "[Parallel(n_jobs=1)]: Using backend SequentialBackend with 1 concurrent workers.\n"
     ]
    },
    {
     "name": "stdout",
     "output_type": "stream",
     "text": [
      "[CV]  max_depth=10, min_samples_leaf=3, n_estimators=200, score=0.903, total=   7.0s\n",
      "[CV] max_depth=10, min_samples_leaf=3, n_estimators=200 ..............\n"
     ]
    },
    {
     "name": "stderr",
     "output_type": "stream",
     "text": [
      "[Parallel(n_jobs=1)]: Done   1 out of   1 | elapsed:    6.9s remaining:    0.0s\n"
     ]
    },
    {
     "name": "stdout",
     "output_type": "stream",
     "text": [
      "[CV]  max_depth=10, min_samples_leaf=3, n_estimators=200, score=0.902, total=   6.4s\n",
      "[CV] max_depth=10, min_samples_leaf=3, n_estimators=200 ..............\n"
     ]
    },
    {
     "name": "stderr",
     "output_type": "stream",
     "text": [
      "[Parallel(n_jobs=1)]: Done   2 out of   2 | elapsed:   13.3s remaining:    0.0s\n"
     ]
    },
    {
     "name": "stdout",
     "output_type": "stream",
     "text": [
      "[CV]  max_depth=10, min_samples_leaf=3, n_estimators=200, score=0.913, total=   6.8s\n",
      "[CV] max_depth=10, min_samples_leaf=3, n_estimators=200 ..............\n",
      "[CV]  max_depth=10, min_samples_leaf=3, n_estimators=200, score=0.903, total=   6.7s\n",
      "[CV] max_depth=10, min_samples_leaf=3, n_estimators=200 ..............\n",
      "[CV]  max_depth=10, min_samples_leaf=3, n_estimators=200, score=0.906, total=   6.5s\n",
      "[CV] max_depth=10, min_samples_leaf=3, n_estimators=500 ..............\n",
      "[CV]  max_depth=10, min_samples_leaf=3, n_estimators=500, score=0.903, total=  15.7s\n",
      "[CV] max_depth=10, min_samples_leaf=3, n_estimators=500 ..............\n",
      "[CV]  max_depth=10, min_samples_leaf=3, n_estimators=500, score=0.902, total=  15.8s\n",
      "[CV] max_depth=10, min_samples_leaf=3, n_estimators=500 ..............\n",
      "[CV]  max_depth=10, min_samples_leaf=3, n_estimators=500, score=0.913, total=  15.8s\n",
      "[CV] max_depth=10, min_samples_leaf=3, n_estimators=500 ..............\n",
      "[CV]  max_depth=10, min_samples_leaf=3, n_estimators=500, score=0.904, total=  16.1s\n",
      "[CV] max_depth=10, min_samples_leaf=3, n_estimators=500 ..............\n",
      "[CV]  max_depth=10, min_samples_leaf=3, n_estimators=500, score=0.906, total=  16.0s\n",
      "[CV] max_depth=10, min_samples_leaf=3, n_estimators=700 ..............\n",
      "[CV]  max_depth=10, min_samples_leaf=3, n_estimators=700, score=0.902, total=  24.7s\n",
      "[CV] max_depth=10, min_samples_leaf=3, n_estimators=700 ..............\n",
      "[CV]  max_depth=10, min_samples_leaf=3, n_estimators=700, score=0.903, total=  23.9s\n",
      "[CV] max_depth=10, min_samples_leaf=3, n_estimators=700 ..............\n",
      "[CV]  max_depth=10, min_samples_leaf=3, n_estimators=700, score=0.913, total=  22.7s\n",
      "[CV] max_depth=10, min_samples_leaf=3, n_estimators=700 ..............\n",
      "[CV]  max_depth=10, min_samples_leaf=3, n_estimators=700, score=0.903, total=  22.7s\n",
      "[CV] max_depth=10, min_samples_leaf=3, n_estimators=700 ..............\n",
      "[CV]  max_depth=10, min_samples_leaf=3, n_estimators=700, score=0.907, total=  23.0s\n",
      "[CV] max_depth=10, min_samples_leaf=5, n_estimators=200 ..............\n",
      "[CV]  max_depth=10, min_samples_leaf=5, n_estimators=200, score=0.902, total=   7.1s\n",
      "[CV] max_depth=10, min_samples_leaf=5, n_estimators=200 ..............\n",
      "[CV]  max_depth=10, min_samples_leaf=5, n_estimators=200, score=0.903, total=   7.0s\n",
      "[CV] max_depth=10, min_samples_leaf=5, n_estimators=200 ..............\n",
      "[CV]  max_depth=10, min_samples_leaf=5, n_estimators=200, score=0.912, total=   6.5s\n",
      "[CV] max_depth=10, min_samples_leaf=5, n_estimators=200 ..............\n",
      "[CV]  max_depth=10, min_samples_leaf=5, n_estimators=200, score=0.903, total=   6.7s\n",
      "[CV] max_depth=10, min_samples_leaf=5, n_estimators=200 ..............\n",
      "[CV]  max_depth=10, min_samples_leaf=5, n_estimators=200, score=0.906, total=   6.6s\n",
      "[CV] max_depth=10, min_samples_leaf=5, n_estimators=500 ..............\n",
      "[CV]  max_depth=10, min_samples_leaf=5, n_estimators=500, score=0.902, total=  16.7s\n",
      "[CV] max_depth=10, min_samples_leaf=5, n_estimators=500 ..............\n",
      "[CV]  max_depth=10, min_samples_leaf=5, n_estimators=500, score=0.901, total=  16.7s\n",
      "[CV] max_depth=10, min_samples_leaf=5, n_estimators=500 ..............\n",
      "[CV]  max_depth=10, min_samples_leaf=5, n_estimators=500, score=0.912, total=  16.0s\n",
      "[CV] max_depth=10, min_samples_leaf=5, n_estimators=500 ..............\n",
      "[CV]  max_depth=10, min_samples_leaf=5, n_estimators=500, score=0.903, total=  16.9s\n",
      "[CV] max_depth=10, min_samples_leaf=5, n_estimators=500 ..............\n",
      "[CV]  max_depth=10, min_samples_leaf=5, n_estimators=500, score=0.905, total=  16.2s\n",
      "[CV] max_depth=10, min_samples_leaf=5, n_estimators=700 ..............\n",
      "[CV]  max_depth=10, min_samples_leaf=5, n_estimators=700, score=0.903, total=  22.9s\n",
      "[CV] max_depth=10, min_samples_leaf=5, n_estimators=700 ..............\n",
      "[CV]  max_depth=10, min_samples_leaf=5, n_estimators=700, score=0.903, total=  23.3s\n",
      "[CV] max_depth=10, min_samples_leaf=5, n_estimators=700 ..............\n",
      "[CV]  max_depth=10, min_samples_leaf=5, n_estimators=700, score=0.912, total=  23.3s\n",
      "[CV] max_depth=10, min_samples_leaf=5, n_estimators=700 ..............\n",
      "[CV]  max_depth=10, min_samples_leaf=5, n_estimators=700, score=0.903, total=  22.7s\n",
      "[CV] max_depth=10, min_samples_leaf=5, n_estimators=700 ..............\n",
      "[CV]  max_depth=10, min_samples_leaf=5, n_estimators=700, score=0.905, total=  23.4s\n",
      "[CV] max_depth=10, min_samples_leaf=7, n_estimators=200 ..............\n",
      "[CV]  max_depth=10, min_samples_leaf=7, n_estimators=200, score=0.902, total=   6.8s\n",
      "[CV] max_depth=10, min_samples_leaf=7, n_estimators=200 ..............\n",
      "[CV]  max_depth=10, min_samples_leaf=7, n_estimators=200, score=0.901, total=   7.2s\n",
      "[CV] max_depth=10, min_samples_leaf=7, n_estimators=200 ..............\n",
      "[CV]  max_depth=10, min_samples_leaf=7, n_estimators=200, score=0.913, total=   6.6s\n",
      "[CV] max_depth=10, min_samples_leaf=7, n_estimators=200 ..............\n",
      "[CV]  max_depth=10, min_samples_leaf=7, n_estimators=200, score=0.903, total=   6.6s\n",
      "[CV] max_depth=10, min_samples_leaf=7, n_estimators=200 ..............\n",
      "[CV]  max_depth=10, min_samples_leaf=7, n_estimators=200, score=0.905, total=   7.0s\n",
      "[CV] max_depth=10, min_samples_leaf=7, n_estimators=500 ..............\n",
      "[CV]  max_depth=10, min_samples_leaf=7, n_estimators=500, score=0.902, total=  16.9s\n",
      "[CV] max_depth=10, min_samples_leaf=7, n_estimators=500 ..............\n",
      "[CV]  max_depth=10, min_samples_leaf=7, n_estimators=500, score=0.902, total=  16.1s\n",
      "[CV] max_depth=10, min_samples_leaf=7, n_estimators=500 ..............\n",
      "[CV]  max_depth=10, min_samples_leaf=7, n_estimators=500, score=0.912, total=  16.5s\n",
      "[CV] max_depth=10, min_samples_leaf=7, n_estimators=500 ..............\n",
      "[CV]  max_depth=10, min_samples_leaf=7, n_estimators=500, score=0.902, total=  16.5s\n",
      "[CV] max_depth=10, min_samples_leaf=7, n_estimators=500 ..............\n",
      "[CV]  max_depth=10, min_samples_leaf=7, n_estimators=500, score=0.904, total=  16.6s\n",
      "[CV] max_depth=10, min_samples_leaf=7, n_estimators=700 ..............\n",
      "[CV]  max_depth=10, min_samples_leaf=7, n_estimators=700, score=0.902, total=  23.9s\n",
      "[CV] max_depth=10, min_samples_leaf=7, n_estimators=700 ..............\n",
      "[CV]  max_depth=10, min_samples_leaf=7, n_estimators=700, score=0.902, total=  24.7s\n",
      "[CV] max_depth=10, min_samples_leaf=7, n_estimators=700 ..............\n",
      "[CV]  max_depth=10, min_samples_leaf=7, n_estimators=700, score=0.913, total=  24.2s\n",
      "[CV] max_depth=10, min_samples_leaf=7, n_estimators=700 ..............\n",
      "[CV]  max_depth=10, min_samples_leaf=7, n_estimators=700, score=0.903, total=  25.6s\n",
      "[CV] max_depth=10, min_samples_leaf=7, n_estimators=700 ..............\n",
      "[CV]  max_depth=10, min_samples_leaf=7, n_estimators=700, score=0.906, total=  24.6s\n",
      "[CV] max_depth=15, min_samples_leaf=3, n_estimators=200 ..............\n",
      "[CV]  max_depth=15, min_samples_leaf=3, n_estimators=200, score=0.906, total=   9.0s\n",
      "[CV] max_depth=15, min_samples_leaf=3, n_estimators=200 ..............\n",
      "[CV]  max_depth=15, min_samples_leaf=3, n_estimators=200, score=0.909, total=   9.5s\n",
      "[CV] max_depth=15, min_samples_leaf=3, n_estimators=200 ..............\n",
      "[CV]  max_depth=15, min_samples_leaf=3, n_estimators=200, score=0.917, total=   8.8s\n",
      "[CV] max_depth=15, min_samples_leaf=3, n_estimators=200 ..............\n",
      "[CV]  max_depth=15, min_samples_leaf=3, n_estimators=200, score=0.906, total=   9.2s\n",
      "[CV] max_depth=15, min_samples_leaf=3, n_estimators=200 ..............\n",
      "[CV]  max_depth=15, min_samples_leaf=3, n_estimators=200, score=0.913, total=   8.9s\n",
      "[CV] max_depth=15, min_samples_leaf=3, n_estimators=500 ..............\n",
      "[CV]  max_depth=15, min_samples_leaf=3, n_estimators=500, score=0.907, total=  21.6s\n",
      "[CV] max_depth=15, min_samples_leaf=3, n_estimators=500 ..............\n",
      "[CV]  max_depth=15, min_samples_leaf=3, n_estimators=500, score=0.908, total=  22.5s\n",
      "[CV] max_depth=15, min_samples_leaf=3, n_estimators=500 ..............\n",
      "[CV]  max_depth=15, min_samples_leaf=3, n_estimators=500, score=0.916, total=  25.0s\n",
      "[CV] max_depth=15, min_samples_leaf=3, n_estimators=500 ..............\n",
      "[CV]  max_depth=15, min_samples_leaf=3, n_estimators=500, score=0.907, total=  23.5s\n",
      "[CV] max_depth=15, min_samples_leaf=3, n_estimators=500 ..............\n",
      "[CV]  max_depth=15, min_samples_leaf=3, n_estimators=500, score=0.912, total=  21.9s\n",
      "[CV] max_depth=15, min_samples_leaf=3, n_estimators=700 ..............\n"
     ]
    },
    {
     "name": "stdout",
     "output_type": "stream",
     "text": [
      "[CV]  max_depth=15, min_samples_leaf=3, n_estimators=700, score=0.908, total=  32.2s\n",
      "[CV] max_depth=15, min_samples_leaf=3, n_estimators=700 ..............\n",
      "[CV]  max_depth=15, min_samples_leaf=3, n_estimators=700, score=0.908, total=  34.9s\n",
      "[CV] max_depth=15, min_samples_leaf=3, n_estimators=700 ..............\n",
      "[CV]  max_depth=15, min_samples_leaf=3, n_estimators=700, score=0.916, total=  35.0s\n",
      "[CV] max_depth=15, min_samples_leaf=3, n_estimators=700 ..............\n",
      "[CV]  max_depth=15, min_samples_leaf=3, n_estimators=700, score=0.909, total=  32.6s\n",
      "[CV] max_depth=15, min_samples_leaf=3, n_estimators=700 ..............\n",
      "[CV]  max_depth=15, min_samples_leaf=3, n_estimators=700, score=0.912, total=  33.2s\n",
      "[CV] max_depth=15, min_samples_leaf=5, n_estimators=200 ..............\n",
      "[CV]  max_depth=15, min_samples_leaf=5, n_estimators=200, score=0.907, total=   8.8s\n",
      "[CV] max_depth=15, min_samples_leaf=5, n_estimators=200 ..............\n",
      "[CV]  max_depth=15, min_samples_leaf=5, n_estimators=200, score=0.907, total=   9.2s\n",
      "[CV] max_depth=15, min_samples_leaf=5, n_estimators=200 ..............\n",
      "[CV]  max_depth=15, min_samples_leaf=5, n_estimators=200, score=0.917, total=  10.3s\n",
      "[CV] max_depth=15, min_samples_leaf=5, n_estimators=200 ..............\n",
      "[CV]  max_depth=15, min_samples_leaf=5, n_estimators=200, score=0.906, total=   9.5s\n",
      "[CV] max_depth=15, min_samples_leaf=5, n_estimators=200 ..............\n",
      "[CV]  max_depth=15, min_samples_leaf=5, n_estimators=200, score=0.912, total=   8.5s\n",
      "[CV] max_depth=15, min_samples_leaf=5, n_estimators=500 ..............\n",
      "[CV]  max_depth=15, min_samples_leaf=5, n_estimators=500, score=0.907, total=  22.8s\n",
      "[CV] max_depth=15, min_samples_leaf=5, n_estimators=500 ..............\n",
      "[CV]  max_depth=15, min_samples_leaf=5, n_estimators=500, score=0.907, total=  23.1s\n",
      "[CV] max_depth=15, min_samples_leaf=5, n_estimators=500 ..............\n",
      "[CV]  max_depth=15, min_samples_leaf=5, n_estimators=500, score=0.916, total=  22.9s\n",
      "[CV] max_depth=15, min_samples_leaf=5, n_estimators=500 ..............\n",
      "[CV]  max_depth=15, min_samples_leaf=5, n_estimators=500, score=0.907, total=  23.9s\n",
      "[CV] max_depth=15, min_samples_leaf=5, n_estimators=500 ..............\n",
      "[CV]  max_depth=15, min_samples_leaf=5, n_estimators=500, score=0.912, total=  25.1s\n",
      "[CV] max_depth=15, min_samples_leaf=5, n_estimators=700 ..............\n",
      "[CV]  max_depth=15, min_samples_leaf=5, n_estimators=700, score=0.906, total=  32.3s\n",
      "[CV] max_depth=15, min_samples_leaf=5, n_estimators=700 ..............\n",
      "[CV]  max_depth=15, min_samples_leaf=5, n_estimators=700, score=0.907, total=  34.0s\n",
      "[CV] max_depth=15, min_samples_leaf=5, n_estimators=700 ..............\n",
      "[CV]  max_depth=15, min_samples_leaf=5, n_estimators=700, score=0.918, total=  33.3s\n",
      "[CV] max_depth=15, min_samples_leaf=5, n_estimators=700 ..............\n",
      "[CV]  max_depth=15, min_samples_leaf=5, n_estimators=700, score=0.909, total=  32.5s\n",
      "[CV] max_depth=15, min_samples_leaf=5, n_estimators=700 ..............\n",
      "[CV]  max_depth=15, min_samples_leaf=5, n_estimators=700, score=0.912, total=  33.3s\n",
      "[CV] max_depth=15, min_samples_leaf=7, n_estimators=200 ..............\n",
      "[CV]  max_depth=15, min_samples_leaf=7, n_estimators=200, score=0.905, total=   8.5s\n",
      "[CV] max_depth=15, min_samples_leaf=7, n_estimators=200 ..............\n",
      "[CV]  max_depth=15, min_samples_leaf=7, n_estimators=200, score=0.907, total=  10.5s\n",
      "[CV] max_depth=15, min_samples_leaf=7, n_estimators=200 ..............\n",
      "[CV]  max_depth=15, min_samples_leaf=7, n_estimators=200, score=0.916, total=   8.9s\n",
      "[CV] max_depth=15, min_samples_leaf=7, n_estimators=200 ..............\n",
      "[CV]  max_depth=15, min_samples_leaf=7, n_estimators=200, score=0.906, total=   8.4s\n",
      "[CV] max_depth=15, min_samples_leaf=7, n_estimators=200 ..............\n",
      "[CV]  max_depth=15, min_samples_leaf=7, n_estimators=200, score=0.910, total=   9.9s\n",
      "[CV] max_depth=15, min_samples_leaf=7, n_estimators=500 ..............\n",
      "[CV]  max_depth=15, min_samples_leaf=7, n_estimators=500, score=0.905, total=  22.9s\n",
      "[CV] max_depth=15, min_samples_leaf=7, n_estimators=500 ..............\n",
      "[CV]  max_depth=15, min_samples_leaf=7, n_estimators=500, score=0.908, total=  21.9s\n",
      "[CV] max_depth=15, min_samples_leaf=7, n_estimators=500 ..............\n",
      "[CV]  max_depth=15, min_samples_leaf=7, n_estimators=500, score=0.917, total=  22.7s\n",
      "[CV] max_depth=15, min_samples_leaf=7, n_estimators=500 ..............\n",
      "[CV]  max_depth=15, min_samples_leaf=7, n_estimators=500, score=0.907, total=  22.9s\n",
      "[CV] max_depth=15, min_samples_leaf=7, n_estimators=500 ..............\n",
      "[CV]  max_depth=15, min_samples_leaf=7, n_estimators=500, score=0.912, total=  23.1s\n",
      "[CV] max_depth=15, min_samples_leaf=7, n_estimators=700 ..............\n",
      "[CV]  max_depth=15, min_samples_leaf=7, n_estimators=700, score=0.905, total=  31.5s\n",
      "[CV] max_depth=15, min_samples_leaf=7, n_estimators=700 ..............\n",
      "[CV]  max_depth=15, min_samples_leaf=7, n_estimators=700, score=0.907, total=  31.5s\n",
      "[CV] max_depth=15, min_samples_leaf=7, n_estimators=700 ..............\n",
      "[CV]  max_depth=15, min_samples_leaf=7, n_estimators=700, score=0.917, total=  30.8s\n",
      "[CV] max_depth=15, min_samples_leaf=7, n_estimators=700 ..............\n",
      "[CV]  max_depth=15, min_samples_leaf=7, n_estimators=700, score=0.906, total=  30.4s\n",
      "[CV] max_depth=15, min_samples_leaf=7, n_estimators=700 ..............\n",
      "[CV]  max_depth=15, min_samples_leaf=7, n_estimators=700, score=0.912, total=  33.4s\n",
      "[CV] max_depth=18, min_samples_leaf=3, n_estimators=200 ..............\n",
      "[CV]  max_depth=18, min_samples_leaf=3, n_estimators=200, score=0.907, total=  11.3s\n",
      "[CV] max_depth=18, min_samples_leaf=3, n_estimators=200 ..............\n",
      "[CV]  max_depth=18, min_samples_leaf=3, n_estimators=200, score=0.909, total=  11.7s\n",
      "[CV] max_depth=18, min_samples_leaf=3, n_estimators=200 ..............\n",
      "[CV]  max_depth=18, min_samples_leaf=3, n_estimators=200, score=0.917, total=  10.3s\n",
      "[CV] max_depth=18, min_samples_leaf=3, n_estimators=200 ..............\n",
      "[CV]  max_depth=18, min_samples_leaf=3, n_estimators=200, score=0.909, total=  10.4s\n",
      "[CV] max_depth=18, min_samples_leaf=3, n_estimators=200 ..............\n",
      "[CV]  max_depth=18, min_samples_leaf=3, n_estimators=200, score=0.913, total=  10.9s\n",
      "[CV] max_depth=18, min_samples_leaf=3, n_estimators=500 ..............\n",
      "[CV]  max_depth=18, min_samples_leaf=3, n_estimators=500, score=0.909, total=  27.9s\n",
      "[CV] max_depth=18, min_samples_leaf=3, n_estimators=500 ..............\n",
      "[CV]  max_depth=18, min_samples_leaf=3, n_estimators=500, score=0.909, total=  25.2s\n",
      "[CV] max_depth=18, min_samples_leaf=3, n_estimators=500 ..............\n",
      "[CV]  max_depth=18, min_samples_leaf=3, n_estimators=500, score=0.918, total=  25.8s\n",
      "[CV] max_depth=18, min_samples_leaf=3, n_estimators=500 ..............\n",
      "[CV]  max_depth=18, min_samples_leaf=3, n_estimators=500, score=0.910, total=  25.6s\n",
      "[CV] max_depth=18, min_samples_leaf=3, n_estimators=500 ..............\n",
      "[CV]  max_depth=18, min_samples_leaf=3, n_estimators=500, score=0.913, total=  27.4s\n",
      "[CV] max_depth=18, min_samples_leaf=3, n_estimators=700 ..............\n",
      "[CV]  max_depth=18, min_samples_leaf=3, n_estimators=700, score=0.908, total=  41.3s\n",
      "[CV] max_depth=18, min_samples_leaf=3, n_estimators=700 ..............\n",
      "[CV]  max_depth=18, min_samples_leaf=3, n_estimators=700, score=0.909, total=  37.6s\n",
      "[CV] max_depth=18, min_samples_leaf=3, n_estimators=700 ..............\n",
      "[CV]  max_depth=18, min_samples_leaf=3, n_estimators=700, score=0.919, total=  37.5s\n",
      "[CV] max_depth=18, min_samples_leaf=3, n_estimators=700 ..............\n",
      "[CV]  max_depth=18, min_samples_leaf=3, n_estimators=700, score=0.908, total=  34.4s\n",
      "[CV] max_depth=18, min_samples_leaf=3, n_estimators=700 ..............\n",
      "[CV]  max_depth=18, min_samples_leaf=3, n_estimators=700, score=0.913, total=  32.5s\n",
      "[CV] max_depth=18, min_samples_leaf=5, n_estimators=200 ..............\n",
      "[CV]  max_depth=18, min_samples_leaf=5, n_estimators=200, score=0.907, total=   9.6s\n",
      "[CV] max_depth=18, min_samples_leaf=5, n_estimators=200 ..............\n",
      "[CV]  max_depth=18, min_samples_leaf=5, n_estimators=200, score=0.910, total=   9.7s\n",
      "[CV] max_depth=18, min_samples_leaf=5, n_estimators=200 ..............\n",
      "[CV]  max_depth=18, min_samples_leaf=5, n_estimators=200, score=0.918, total=   9.0s\n",
      "[CV] max_depth=18, min_samples_leaf=5, n_estimators=200 ..............\n"
     ]
    },
    {
     "name": "stdout",
     "output_type": "stream",
     "text": [
      "[CV]  max_depth=18, min_samples_leaf=5, n_estimators=200, score=0.907, total=   9.1s\n",
      "[CV] max_depth=18, min_samples_leaf=5, n_estimators=200 ..............\n",
      "[CV]  max_depth=18, min_samples_leaf=5, n_estimators=200, score=0.912, total=  10.0s\n",
      "[CV] max_depth=18, min_samples_leaf=5, n_estimators=500 ..............\n",
      "[CV]  max_depth=18, min_samples_leaf=5, n_estimators=500, score=0.907, total=  24.8s\n",
      "[CV] max_depth=18, min_samples_leaf=5, n_estimators=500 ..............\n",
      "[CV]  max_depth=18, min_samples_leaf=5, n_estimators=500, score=0.908, total=  23.2s\n",
      "[CV] max_depth=18, min_samples_leaf=5, n_estimators=500 ..............\n",
      "[CV]  max_depth=18, min_samples_leaf=5, n_estimators=500, score=0.918, total=  17.3s\n",
      "[CV] max_depth=18, min_samples_leaf=5, n_estimators=500 ..............\n",
      "[CV]  max_depth=18, min_samples_leaf=5, n_estimators=500, score=0.908, total=  16.6s\n",
      "[CV] max_depth=18, min_samples_leaf=5, n_estimators=500 ..............\n",
      "[CV]  max_depth=18, min_samples_leaf=5, n_estimators=500, score=0.913, total=  17.9s\n",
      "[CV] max_depth=18, min_samples_leaf=5, n_estimators=700 ..............\n",
      "[CV]  max_depth=18, min_samples_leaf=5, n_estimators=700, score=0.907, total=  26.3s\n",
      "[CV] max_depth=18, min_samples_leaf=5, n_estimators=700 ..............\n",
      "[CV]  max_depth=18, min_samples_leaf=5, n_estimators=700, score=0.909, total=  28.6s\n",
      "[CV] max_depth=18, min_samples_leaf=5, n_estimators=700 ..............\n",
      "[CV]  max_depth=18, min_samples_leaf=5, n_estimators=700, score=0.918, total=  26.1s\n",
      "[CV] max_depth=18, min_samples_leaf=5, n_estimators=700 ..............\n",
      "[CV]  max_depth=18, min_samples_leaf=5, n_estimators=700, score=0.908, total=  22.7s\n",
      "[CV] max_depth=18, min_samples_leaf=5, n_estimators=700 ..............\n",
      "[CV]  max_depth=18, min_samples_leaf=5, n_estimators=700, score=0.912, total=  22.6s\n",
      "[CV] max_depth=18, min_samples_leaf=7, n_estimators=200 ..............\n",
      "[CV]  max_depth=18, min_samples_leaf=7, n_estimators=200, score=0.907, total=   6.3s\n",
      "[CV] max_depth=18, min_samples_leaf=7, n_estimators=200 ..............\n",
      "[CV]  max_depth=18, min_samples_leaf=7, n_estimators=200, score=0.909, total=   9.1s\n",
      "[CV] max_depth=18, min_samples_leaf=7, n_estimators=200 ..............\n",
      "[CV]  max_depth=18, min_samples_leaf=7, n_estimators=200, score=0.918, total=   6.9s\n",
      "[CV] max_depth=18, min_samples_leaf=7, n_estimators=200 ..............\n",
      "[CV]  max_depth=18, min_samples_leaf=7, n_estimators=200, score=0.908, total=   7.0s\n",
      "[CV] max_depth=18, min_samples_leaf=7, n_estimators=200 ..............\n",
      "[CV]  max_depth=18, min_samples_leaf=7, n_estimators=200, score=0.913, total=   6.9s\n",
      "[CV] max_depth=18, min_samples_leaf=7, n_estimators=500 ..............\n",
      "[CV]  max_depth=18, min_samples_leaf=7, n_estimators=500, score=0.906, total=  17.7s\n",
      "[CV] max_depth=18, min_samples_leaf=7, n_estimators=500 ..............\n",
      "[CV]  max_depth=18, min_samples_leaf=7, n_estimators=500, score=0.908, total=  19.2s\n",
      "[CV] max_depth=18, min_samples_leaf=7, n_estimators=500 ..............\n",
      "[CV]  max_depth=18, min_samples_leaf=7, n_estimators=500, score=0.918, total=  16.6s\n",
      "[CV] max_depth=18, min_samples_leaf=7, n_estimators=500 ..............\n",
      "[CV]  max_depth=18, min_samples_leaf=7, n_estimators=500, score=0.907, total=  19.6s\n",
      "[CV] max_depth=18, min_samples_leaf=7, n_estimators=500 ..............\n",
      "[CV]  max_depth=18, min_samples_leaf=7, n_estimators=500, score=0.912, total=  18.2s\n",
      "[CV] max_depth=18, min_samples_leaf=7, n_estimators=700 ..............\n",
      "[CV]  max_depth=18, min_samples_leaf=7, n_estimators=700, score=0.906, total=  32.4s\n",
      "[CV] max_depth=18, min_samples_leaf=7, n_estimators=700 ..............\n",
      "[CV]  max_depth=18, min_samples_leaf=7, n_estimators=700, score=0.908, total=  30.7s\n",
      "[CV] max_depth=18, min_samples_leaf=7, n_estimators=700 ..............\n",
      "[CV]  max_depth=18, min_samples_leaf=7, n_estimators=700, score=0.918, total=  36.5s\n",
      "[CV] max_depth=18, min_samples_leaf=7, n_estimators=700 ..............\n",
      "[CV]  max_depth=18, min_samples_leaf=7, n_estimators=700, score=0.908, total=  25.2s\n",
      "[CV] max_depth=18, min_samples_leaf=7, n_estimators=700 ..............\n",
      "[CV]  max_depth=18, min_samples_leaf=7, n_estimators=700, score=0.912, total=  34.6s\n",
      "[CV] max_depth=20, min_samples_leaf=3, n_estimators=200 ..............\n",
      "[CV]  max_depth=20, min_samples_leaf=3, n_estimators=200, score=0.908, total=   9.0s\n",
      "[CV] max_depth=20, min_samples_leaf=3, n_estimators=200 ..............\n",
      "[CV]  max_depth=20, min_samples_leaf=3, n_estimators=200, score=0.909, total=   8.9s\n",
      "[CV] max_depth=20, min_samples_leaf=3, n_estimators=200 ..............\n",
      "[CV]  max_depth=20, min_samples_leaf=3, n_estimators=200, score=0.918, total=   7.8s\n",
      "[CV] max_depth=20, min_samples_leaf=3, n_estimators=200 ..............\n",
      "[CV]  max_depth=20, min_samples_leaf=3, n_estimators=200, score=0.908, total=   9.1s\n",
      "[CV] max_depth=20, min_samples_leaf=3, n_estimators=200 ..............\n",
      "[CV]  max_depth=20, min_samples_leaf=3, n_estimators=200, score=0.915, total=   7.7s\n",
      "[CV] max_depth=20, min_samples_leaf=3, n_estimators=500 ..............\n",
      "[CV]  max_depth=20, min_samples_leaf=3, n_estimators=500, score=0.908, total=  19.7s\n",
      "[CV] max_depth=20, min_samples_leaf=3, n_estimators=500 ..............\n",
      "[CV]  max_depth=20, min_samples_leaf=3, n_estimators=500, score=0.909, total=  20.1s\n",
      "[CV] max_depth=20, min_samples_leaf=3, n_estimators=500 ..............\n",
      "[CV]  max_depth=20, min_samples_leaf=3, n_estimators=500, score=0.918, total=  23.6s\n",
      "[CV] max_depth=20, min_samples_leaf=3, n_estimators=500 ..............\n",
      "[CV]  max_depth=20, min_samples_leaf=3, n_estimators=500, score=0.909, total=  22.0s\n",
      "[CV] max_depth=20, min_samples_leaf=3, n_estimators=500 ..............\n",
      "[CV]  max_depth=20, min_samples_leaf=3, n_estimators=500, score=0.914, total=  18.4s\n",
      "[CV] max_depth=20, min_samples_leaf=3, n_estimators=700 ..............\n",
      "[CV]  max_depth=20, min_samples_leaf=3, n_estimators=700, score=0.909, total=  26.2s\n",
      "[CV] max_depth=20, min_samples_leaf=3, n_estimators=700 ..............\n",
      "[CV]  max_depth=20, min_samples_leaf=3, n_estimators=700, score=0.910, total=  28.4s\n",
      "[CV] max_depth=20, min_samples_leaf=3, n_estimators=700 ..............\n",
      "[CV]  max_depth=20, min_samples_leaf=3, n_estimators=700, score=0.919, total=  29.0s\n",
      "[CV] max_depth=20, min_samples_leaf=3, n_estimators=700 ..............\n",
      "[CV]  max_depth=20, min_samples_leaf=3, n_estimators=700, score=0.909, total=  27.0s\n",
      "[CV] max_depth=20, min_samples_leaf=3, n_estimators=700 ..............\n",
      "[CV]  max_depth=20, min_samples_leaf=3, n_estimators=700, score=0.913, total=  26.4s\n",
      "[CV] max_depth=20, min_samples_leaf=5, n_estimators=200 ..............\n",
      "[CV]  max_depth=20, min_samples_leaf=5, n_estimators=200, score=0.907, total=   7.2s\n",
      "[CV] max_depth=20, min_samples_leaf=5, n_estimators=200 ..............\n",
      "[CV]  max_depth=20, min_samples_leaf=5, n_estimators=200, score=0.909, total=   8.1s\n",
      "[CV] max_depth=20, min_samples_leaf=5, n_estimators=200 ..............\n",
      "[CV]  max_depth=20, min_samples_leaf=5, n_estimators=200, score=0.917, total=   7.5s\n",
      "[CV] max_depth=20, min_samples_leaf=5, n_estimators=200 ..............\n",
      "[CV]  max_depth=20, min_samples_leaf=5, n_estimators=200, score=0.908, total=   7.1s\n",
      "[CV] max_depth=20, min_samples_leaf=5, n_estimators=200 ..............\n",
      "[CV]  max_depth=20, min_samples_leaf=5, n_estimators=200, score=0.914, total=   7.1s\n",
      "[CV] max_depth=20, min_samples_leaf=5, n_estimators=500 ..............\n",
      "[CV]  max_depth=20, min_samples_leaf=5, n_estimators=500, score=0.908, total=  18.0s\n",
      "[CV] max_depth=20, min_samples_leaf=5, n_estimators=500 ..............\n",
      "[CV]  max_depth=20, min_samples_leaf=5, n_estimators=500, score=0.909, total=  20.3s\n",
      "[CV] max_depth=20, min_samples_leaf=5, n_estimators=500 ..............\n",
      "[CV]  max_depth=20, min_samples_leaf=5, n_estimators=500, score=0.919, total=  22.6s\n",
      "[CV] max_depth=20, min_samples_leaf=5, n_estimators=500 ..............\n",
      "[CV]  max_depth=20, min_samples_leaf=5, n_estimators=500, score=0.909, total=  23.4s\n",
      "[CV] max_depth=20, min_samples_leaf=5, n_estimators=500 ..............\n",
      "[CV]  max_depth=20, min_samples_leaf=5, n_estimators=500, score=0.912, total=  18.1s\n",
      "[CV] max_depth=20, min_samples_leaf=5, n_estimators=700 ..............\n",
      "[CV]  max_depth=20, min_samples_leaf=5, n_estimators=700, score=0.907, total=  26.6s\n",
      "[CV] max_depth=20, min_samples_leaf=5, n_estimators=700 ..............\n"
     ]
    },
    {
     "name": "stdout",
     "output_type": "stream",
     "text": [
      "[CV]  max_depth=20, min_samples_leaf=5, n_estimators=700, score=0.909, total=  25.0s\n",
      "[CV] max_depth=20, min_samples_leaf=5, n_estimators=700 ..............\n",
      "[CV]  max_depth=20, min_samples_leaf=5, n_estimators=700, score=0.919, total=  29.0s\n",
      "[CV] max_depth=20, min_samples_leaf=5, n_estimators=700 ..............\n",
      "[CV]  max_depth=20, min_samples_leaf=5, n_estimators=700, score=0.909, total=  29.0s\n",
      "[CV] max_depth=20, min_samples_leaf=5, n_estimators=700 ..............\n",
      "[CV]  max_depth=20, min_samples_leaf=5, n_estimators=700, score=0.913, total=  25.9s\n",
      "[CV] max_depth=20, min_samples_leaf=7, n_estimators=200 ..............\n",
      "[CV]  max_depth=20, min_samples_leaf=7, n_estimators=200, score=0.907, total=   7.1s\n",
      "[CV] max_depth=20, min_samples_leaf=7, n_estimators=200 ..............\n",
      "[CV]  max_depth=20, min_samples_leaf=7, n_estimators=200, score=0.907, total=   7.4s\n",
      "[CV] max_depth=20, min_samples_leaf=7, n_estimators=200 ..............\n",
      "[CV]  max_depth=20, min_samples_leaf=7, n_estimators=200, score=0.918, total=   7.0s\n",
      "[CV] max_depth=20, min_samples_leaf=7, n_estimators=200 ..............\n",
      "[CV]  max_depth=20, min_samples_leaf=7, n_estimators=200, score=0.907, total=   7.2s\n",
      "[CV] max_depth=20, min_samples_leaf=7, n_estimators=200 ..............\n",
      "[CV]  max_depth=20, min_samples_leaf=7, n_estimators=200, score=0.912, total=  10.2s\n",
      "[CV] max_depth=20, min_samples_leaf=7, n_estimators=500 ..............\n",
      "[CV]  max_depth=20, min_samples_leaf=7, n_estimators=500, score=0.906, total=  20.8s\n",
      "[CV] max_depth=20, min_samples_leaf=7, n_estimators=500 ..............\n",
      "[CV]  max_depth=20, min_samples_leaf=7, n_estimators=500, score=0.908, total=  20.2s\n",
      "[CV] max_depth=20, min_samples_leaf=7, n_estimators=500 ..............\n",
      "[CV]  max_depth=20, min_samples_leaf=7, n_estimators=500, score=0.918, total=  21.6s\n",
      "[CV] max_depth=20, min_samples_leaf=7, n_estimators=500 ..............\n",
      "[CV]  max_depth=20, min_samples_leaf=7, n_estimators=500, score=0.908, total=  23.3s\n",
      "[CV] max_depth=20, min_samples_leaf=7, n_estimators=500 ..............\n",
      "[CV]  max_depth=20, min_samples_leaf=7, n_estimators=500, score=0.913, total=  20.3s\n",
      "[CV] max_depth=20, min_samples_leaf=7, n_estimators=700 ..............\n",
      "[CV]  max_depth=20, min_samples_leaf=7, n_estimators=700, score=0.906, total=  30.2s\n",
      "[CV] max_depth=20, min_samples_leaf=7, n_estimators=700 ..............\n",
      "[CV]  max_depth=20, min_samples_leaf=7, n_estimators=700, score=0.908, total=  25.5s\n",
      "[CV] max_depth=20, min_samples_leaf=7, n_estimators=700 ..............\n",
      "[CV]  max_depth=20, min_samples_leaf=7, n_estimators=700, score=0.917, total=  25.7s\n",
      "[CV] max_depth=20, min_samples_leaf=7, n_estimators=700 ..............\n",
      "[CV]  max_depth=20, min_samples_leaf=7, n_estimators=700, score=0.907, total=  30.7s\n",
      "[CV] max_depth=20, min_samples_leaf=7, n_estimators=700 ..............\n",
      "[CV]  max_depth=20, min_samples_leaf=7, n_estimators=700, score=0.912, total=  26.1s\n"
     ]
    },
    {
     "name": "stderr",
     "output_type": "stream",
     "text": [
      "[Parallel(n_jobs=1)]: Done 180 out of 180 | elapsed: 57.5min finished\n"
     ]
    },
    {
     "data": {
      "text/plain": [
       "GridSearchCV(estimator=RandomForestClassifier(),\n",
       "             param_grid={'max_depth': [10, 15, 18, 20],\n",
       "                         'min_samples_leaf': [3, 5, 7],\n",
       "                         'n_estimators': [200, 500, 700]},\n",
       "             verbose=3)"
      ]
     },
     "execution_count": 74,
     "metadata": {},
     "output_type": "execute_result"
    }
   ],
   "source": [
    "gs.fit(X_train_r,y_train_r)"
   ]
  },
  {
   "cell_type": "code",
   "execution_count": 75,
   "metadata": {},
   "outputs": [
    {
     "data": {
      "text/plain": [
       "{'max_depth': 20, 'min_samples_leaf': 3, 'n_estimators': 700}"
      ]
     },
     "execution_count": 75,
     "metadata": {},
     "output_type": "execute_result"
    }
   ],
   "source": [
    "gs.best_params_"
   ]
  },
  {
   "cell_type": "code",
   "execution_count": 77,
   "metadata": {},
   "outputs": [
    {
     "data": {
      "text/plain": [
       "RandomForestClassifier(max_depth=20, min_samples_leaf=3, n_estimators=700)"
      ]
     },
     "execution_count": 77,
     "metadata": {},
     "output_type": "execute_result"
    }
   ],
   "source": [
    "gs.best_estimator_"
   ]
  },
  {
   "cell_type": "code",
   "execution_count": 78,
   "metadata": {},
   "outputs": [],
   "source": [
    "rfGS=RandomForestClassifier(max_depth=20, min_samples_leaf=3, n_estimators=700)"
   ]
  },
  {
   "cell_type": "code",
   "execution_count": 79,
   "metadata": {},
   "outputs": [
    {
     "data": {
      "text/plain": [
       "RandomForestClassifier(max_depth=20, min_samples_leaf=3, n_estimators=700)"
      ]
     },
     "execution_count": 79,
     "metadata": {},
     "output_type": "execute_result"
    }
   ],
   "source": [
    "rfGS.fit(X_train_r,y_train_r)"
   ]
  },
  {
   "cell_type": "code",
   "execution_count": 80,
   "metadata": {},
   "outputs": [],
   "source": [
    "predictions_rfGS=rfGS.predict(X_test_r)"
   ]
  },
  {
   "cell_type": "code",
   "execution_count": 81,
   "metadata": {},
   "outputs": [
    {
     "name": "stdout",
     "output_type": "stream",
     "text": [
      "accuracy:\n",
      " 0.9063804991745168\n",
      "classification_report:\n",
      "               precision    recall  f1-score   support\n",
      "\n",
      "          no       0.92      0.98      0.95      9132\n",
      "         yes       0.70      0.30      0.42      1165\n",
      "\n",
      "    accuracy                           0.91     10297\n",
      "   macro avg       0.81      0.64      0.68     10297\n",
      "weighted avg       0.89      0.91      0.89     10297\n",
      "\n",
      "confusion_matrix:\n",
      " [[8985  147]\n",
      " [ 817  348]]\n"
     ]
    }
   ],
   "source": [
    "print('accuracy:\\n',accuracy_score(y_test,predictions_rfGS))\n",
    "print('classification_report:\\n',classification_report(y_test,predictions_rfGS))\n",
    "print('confusion_matrix:\\n',confusion_matrix(y_test,predictions_rfGS))"
   ]
  },
  {
   "cell_type": "code",
   "execution_count": 82,
   "metadata": {},
   "outputs": [
    {
     "data": {
      "text/plain": [
       "array([6.50856204e-03, 5.83700010e-03, 8.99403345e-04, 7.53747804e-04,\n",
       "       2.67999755e-03, 5.41769561e-03, 1.30631596e-03, 2.90194106e-03,\n",
       "       3.95333735e-03, 5.23998354e-03, 1.32224696e-03, 3.72613189e-04,\n",
       "       3.42550121e-03, 6.65039470e-03, 6.28978200e-03, 1.41606828e-04,\n",
       "       3.33936652e-03, 1.49852634e-03, 4.07330210e-03, 5.73222913e-03,\n",
       "       1.49086144e-05, 4.09567567e-03, 8.00531980e-03, 2.11021871e-03,\n",
       "       5.01026913e-03, 4.38442789e-03, 0.00000000e+00, 6.85471647e-03,\n",
       "       6.47014736e-04, 6.72595363e-03, 4.67291255e-03, 6.52965057e-04,\n",
       "       4.18342781e-03, 1.07812340e-02, 1.03466374e-02, 7.91349008e-03,\n",
       "       4.32939130e-03, 1.22856446e-03, 4.07180092e-03, 1.06145706e-02,\n",
       "       1.08284928e-02, 1.76846691e-02, 3.80872480e-03, 1.22876794e-02,\n",
       "       4.60685502e-03, 6.24947919e-03, 6.95223122e-03, 6.52723484e-03,\n",
       "       5.86083836e-03, 5.81633853e-03, 1.39211053e-02, 1.49596668e-02,\n",
       "       7.14054476e-02, 9.01446997e-02, 1.85968285e-02, 1.46281400e-05,\n",
       "       5.26933794e-02, 9.20423414e-04, 6.19529686e-03, 7.55347394e-03,\n",
       "       5.42450817e-03, 4.25513324e-03, 4.63992006e-03, 2.59686509e-03,\n",
       "       8.93326997e-04, 6.80149558e-06, 5.48168281e-02, 1.36775333e-02,\n",
       "       3.57171658e-02, 8.71102352e-03, 9.52007242e-03, 1.10464523e-02,\n",
       "       3.62339026e-03, 3.61725618e-03, 3.15327771e-03, 7.74682227e-04,\n",
       "       6.28933839e-04, 2.88499234e-04, 1.54501886e-02, 1.04359470e-02,\n",
       "       6.90629599e-03, 1.38655238e-02, 2.19997818e-02, 2.78045484e-02,\n",
       "       2.51293608e-02, 2.33108682e-02, 2.70313395e-03, 1.08035548e-04,\n",
       "       6.51582343e-04, 1.97658816e-04, 8.89527634e-05, 2.85590215e-04,\n",
       "       8.39110270e-05, 1.96084771e-04, 1.33260442e-04, 3.43632700e-04,\n",
       "       2.24870404e-04, 6.32489120e-05, 4.87120413e-05, 8.77632682e-05,\n",
       "       6.60345003e-04, 1.60194597e-04, 3.58433974e-05, 3.44833918e-04,\n",
       "       1.83356554e-04, 1.04433658e-04, 1.26107750e-04, 1.79552691e-04,\n",
       "       7.12699599e-05, 5.51796802e-04, 9.94602492e-05, 4.12645728e-04,\n",
       "       2.69494810e-04, 1.40882010e-05, 2.11362569e-04, 4.50328554e-04,\n",
       "       5.16102940e-02, 1.78562361e-02, 2.32818029e-02, 6.78513858e-02])"
      ]
     },
     "execution_count": 82,
     "metadata": {},
     "output_type": "execute_result"
    }
   ],
   "source": [
    "rfGS.feature_importances_"
   ]
  },
  {
   "cell_type": "code",
   "execution_count": 83,
   "metadata": {},
   "outputs": [
    {
     "data": {
      "text/plain": [
       "[(0.09014469972698069, 'f.euribor_<1'),\n",
       " (0.0714054475792952, 'poutcome_success'),\n",
       " (0.06785138576348412, 'cons.price.idx'),\n",
       " (0.054816828131862526, 'f.duration_0_to_100'),\n",
       " (0.05269337944783982, 'f.euribor_>4'),\n",
       " (0.051610294035377154, 'f.pattern_no'),\n",
       " (0.035717165762271914, 'f.duration_101_to_200'),\n",
       " (0.027804548418342165, 'f.duration_701_to_800'),\n",
       " (0.025129360793355482, 'f.duration_801_to_900'),\n",
       " (0.023310868167413453, 'f.duration_901_to_1000'),\n",
       " (0.023281802919687046, 'previous'),\n",
       " (0.021999781777536746, 'f.duration_601_to_700'),\n",
       " (0.018596828488999427, 'f.euribor_>1 and <2'),\n",
       " (0.01785623614802513, 'campaign'),\n",
       " (0.01768466905909969, 'month_may'),\n",
       " (0.01545018860353162, 'f.duration_201_to_300'),\n",
       " (0.014959666762355708, 'poutcome_nonexistent'),\n",
       " (0.013921105277387593, 'poutcome_failure'),\n",
       " (0.013865523772544833, 'f.duration_501_to_600'),\n",
       " (0.013677533330248673, 'f.duration_1001_to_1100'),\n",
       " (0.012287679424296304, 'month_oct'),\n",
       " (0.011046452274267027, 'f.duration_1301_to_1400'),\n",
       " (0.010828492794093458, 'month_mar'),\n",
       " (0.010781233997186909, 'contact_cellular'),\n",
       " (0.010614570591016044, 'month_jun'),\n",
       " (0.010435946963044812, 'f.duration_301_to_400'),\n",
       " (0.010346637434210701, 'contact_telephone'),\n",
       " (0.009520072424574765, 'f.duration_1201_to_1300'),\n",
       " (0.008711023523287802, 'f.duration_1101_to_1200'),\n",
       " (0.008005319801656733, 'education_university.degree'),\n",
       " (0.00791349008225648, 'month_apr'),\n",
       " (0.007553473941338412, 'f.age_31_to_40'),\n",
       " (0.0069522312182280195, 'day_of_week_mon'),\n",
       " (0.006906295989039603, 'f.duration_401_to_500'),\n",
       " (0.006854716468941101, 'housing_no'),\n",
       " (0.006725953630605388, 'housing_yes'),\n",
       " (0.0066503946973689105, 'marital_married'),\n",
       " (0.006527234838072356, 'day_of_week_thu'),\n",
       " (0.006508562036156221, 'job_admin.'),\n",
       " (0.00628978200497329, 'marital_single'),\n",
       " (0.0062494791858440524, 'day_of_week_fri'),\n",
       " (0.006195296860699082, 'f.age_21_to_30'),\n",
       " (0.005860838360536375, 'day_of_week_tue'),\n",
       " (0.005837000096398422, 'job_blue-collar'),\n",
       " (0.005816338531365928, 'day_of_week_wed'),\n",
       " (0.005732229133178527, 'education_high.school'),\n",
       " (0.005424508165108607, 'f.age_41_to_50'),\n",
       " (0.005417695611004873, 'job_retired'),\n",
       " (0.005239983542653564, 'job_technician'),\n",
       " (0.005010269125095619, 'default_no'),\n",
       " (0.004672912553813868, 'loan_no'),\n",
       " (0.004639920063383059, 'f.age_61_to_70'),\n",
       " (0.0046068550152350085, 'month_sep'),\n",
       " (0.004384427888820321, 'default_unknown'),\n",
       " (0.004329391299892834, 'month_aug'),\n",
       " (0.004255133235574388, 'f.age_51_to_60'),\n",
       " (0.004183427809527095, 'loan_yes'),\n",
       " (0.004095675671479638, 'education_professional.course'),\n",
       " (0.004073302101685385, 'education_basic.9y'),\n",
       " (0.004071800918854189, 'month_jul'),\n",
       " (0.003953337353604353, 'job_student'),\n",
       " (0.003808724797759706, 'month_nov'),\n",
       " (0.0036233902604136388, 'f.duration_1401_to_1500'),\n",
       " (0.0036172561811215515, 'f.duration_1501_to_1600'),\n",
       " (0.003425501205121266, 'marital_divorced'),\n",
       " (0.003339366521720479, 'education_basic.4y'),\n",
       " (0.003153277710373401, 'f.duration_1601_to_1700'),\n",
       " (0.002901941064368481, 'job_services'),\n",
       " (0.002703133948520999, 'f.duration_>2000'),\n",
       " (0.0026799975521328437, 'job_management'),\n",
       " (0.0025968650867783283, 'f.age_71_to_80'),\n",
       " (0.0021102187094128957, 'education_unknown'),\n",
       " (0.001498526338971401, 'education_basic.6y'),\n",
       " (0.0013222469624205142, 'job_unemployed'),\n",
       " (0.001306315960965696, 'job_self-employed'),\n",
       " (0.0012285644634207056, 'month_dec'),\n",
       " (0.0009204234139453591, 'f.age_11_to_20'),\n",
       " (0.0008994033450655293, 'job_entrepreneur'),\n",
       " (0.000893326996515362, 'f.age_81_to_90'),\n",
       " (0.0007746822272023466, 'f.duration_1701_to_1800'),\n",
       " (0.0007537478043794265, 'job_housemaid'),\n",
       " (0.0006603450031474012, 'f.pattern_PE1G'),\n",
       " (0.0006529650568639358, 'loan_unknown'),\n",
       " (0.0006515823434869351, 'f.pattern_PE12B'),\n",
       " (0.0006470147364411502, 'housing_unknown'),\n",
       " (0.0006289338392918396, 'f.duration_1801_to_1900'),\n",
       " (0.000551796802260196, 'f.pattern_PE4A'),\n",
       " (0.00045032855406764317, 'f.pattern_PE4G'),\n",
       " (0.0004126457279779203, 'f.pattern_PE4C'),\n",
       " (0.0003726131885502573, 'job_unknown'),\n",
       " (0.00034483391828457773, 'f.pattern_PE1J'),\n",
       " (0.0003436326996759725, 'f.pattern_PE1B'),\n",
       " (0.00028849923361734775, 'f.duration_1901_to_2000'),\n",
       " (0.0002855902153663118, 'f.pattern_PE12E'),\n",
       " (0.000269494809992975, 'f.pattern_PE4D'),\n",
       " (0.00022487040355398966, 'f.pattern_PE1C'),\n",
       " (0.0002113625686720296, 'f.pattern_PE4F'),\n",
       " (0.00019765881602517172, 'f.pattern_PE12C'),\n",
       " (0.00019608477123400956, 'f.pattern_PE12G'),\n",
       " (0.0001833565541187236, 'f.pattern_PE1K'),\n",
       " (0.000179552691481083, 'f.pattern_PE1N'),\n",
       " (0.0001601945966813326, 'f.pattern_PE1H'),\n",
       " (0.00014160682774218855, 'marital_unknown'),\n",
       " (0.0001332604416423745, 'f.pattern_PE1A'),\n",
       " (0.0001261077498823872, 'f.pattern_PE1M'),\n",
       " (0.00010803554793418781, 'f.pattern_PE12A'),\n",
       " (0.00010443365804592599, 'f.pattern_PE1L'),\n",
       " (9.94602492316425e-05, 'f.pattern_PE4B'),\n",
       " (8.895276336509118e-05, 'f.pattern_PE12D'),\n",
       " (8.776326817717787e-05, 'f.pattern_PE1F'),\n",
       " (8.39110270174948e-05, 'f.pattern_PE12F'),\n",
       " (7.126995987374198e-05, 'f.pattern_PE1O'),\n",
       " (6.324891198236292e-05, 'f.pattern_PE1D'),\n",
       " (4.871204130213941e-05, 'f.pattern_PE1E'),\n",
       " (3.584339740210068e-05, 'f.pattern_PE1I'),\n",
       " (1.4908614381132815e-05, 'education_illiterate'),\n",
       " (1.4628140024085034e-05, 'f.euribor_>3 and <4'),\n",
       " (1.4088201001914953e-05, 'f.pattern_PE4E'),\n",
       " (6.801495584853537e-06, 'f.age_91_to_100'),\n",
       " (0.0, 'default_yes')]"
      ]
     },
     "execution_count": 83,
     "metadata": {},
     "output_type": "execute_result"
    }
   ],
   "source": [
    "sorted(list(zip(rfGS.feature_importances_,banking_df_rem.columns)),reverse= True)"
   ]
  }
 ],
 "metadata": {
  "kernelspec": {
   "display_name": "Python 3",
   "language": "python",
   "name": "python3"
  },
  "language_info": {
   "codemirror_mode": {
    "name": "ipython",
    "version": 3
   },
   "file_extension": ".py",
   "mimetype": "text/x-python",
   "name": "python",
   "nbconvert_exporter": "python",
   "pygments_lexer": "ipython3",
   "version": "3.7.7"
  }
 },
 "nbformat": 4,
 "nbformat_minor": 4
}
